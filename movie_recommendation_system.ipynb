{
 "cells": [
  {
   "cell_type": "code",
   "execution_count": 1,
   "id": "f6ea7266",
   "metadata": {},
   "outputs": [],
   "source": [
    "import pandas as pd\n",
    "import numpy as np\n",
    "import matplotlib.pyplot as plt\n",
    "%matplotlib inline\n",
    "import seaborn as sns"
   ]
  },
  {
   "cell_type": "code",
   "execution_count": 13,
   "id": "c21e8087",
   "metadata": {},
   "outputs": [
    {
     "data": {
      "text/plain": [
       "(10000, 13)"
      ]
     },
     "execution_count": 13,
     "metadata": {},
     "output_type": "execute_result"
    }
   ],
   "source": [
    "chunks = pd.read_csv(\"Top_10000_Movies.csv\", chunksize=1000, lineterminator='\\n')\n",
    "df = pd.concat(chunks, ignore_index=True)\n",
    "df.shape"
   ]
  },
  {
   "cell_type": "code",
   "execution_count": 15,
   "id": "316d9b9c",
   "metadata": {},
   "outputs": [
    {
     "data": {
      "text/html": [
       "<div>\n",
       "<style scoped>\n",
       "    .dataframe tbody tr th:only-of-type {\n",
       "        vertical-align: middle;\n",
       "    }\n",
       "\n",
       "    .dataframe tbody tr th {\n",
       "        vertical-align: top;\n",
       "    }\n",
       "\n",
       "    .dataframe thead th {\n",
       "        text-align: right;\n",
       "    }\n",
       "</style>\n",
       "<table border=\"1\" class=\"dataframe\">\n",
       "  <thead>\n",
       "    <tr style=\"text-align: right;\">\n",
       "      <th></th>\n",
       "      <th>Unnamed: 0</th>\n",
       "      <th>id</th>\n",
       "      <th>popularity</th>\n",
       "      <th>vote_average</th>\n",
       "      <th>vote_count</th>\n",
       "      <th>revenue</th>\n",
       "      <th>runtime</th>\n",
       "    </tr>\n",
       "  </thead>\n",
       "  <tbody>\n",
       "    <tr>\n",
       "      <th>count</th>\n",
       "      <td>10000.00000</td>\n",
       "      <td>10000.0000</td>\n",
       "      <td>10000.000000</td>\n",
       "      <td>10000.00000</td>\n",
       "      <td>10000.000000</td>\n",
       "      <td>1.000000e+04</td>\n",
       "      <td>9991.000000</td>\n",
       "    </tr>\n",
       "    <tr>\n",
       "      <th>mean</th>\n",
       "      <td>4999.50000</td>\n",
       "      <td>250053.0833</td>\n",
       "      <td>34.516871</td>\n",
       "      <td>6.29875</td>\n",
       "      <td>1315.084900</td>\n",
       "      <td>5.736388e+07</td>\n",
       "      <td>98.773596</td>\n",
       "    </tr>\n",
       "    <tr>\n",
       "      <th>std</th>\n",
       "      <td>2886.89568</td>\n",
       "      <td>261734.6183</td>\n",
       "      <td>100.693958</td>\n",
       "      <td>1.43426</td>\n",
       "      <td>2501.899103</td>\n",
       "      <td>1.480771e+08</td>\n",
       "      <td>28.800581</td>\n",
       "    </tr>\n",
       "    <tr>\n",
       "      <th>min</th>\n",
       "      <td>0.00000</td>\n",
       "      <td>5.0000</td>\n",
       "      <td>6.269000</td>\n",
       "      <td>0.00000</td>\n",
       "      <td>0.000000</td>\n",
       "      <td>0.000000e+00</td>\n",
       "      <td>0.000000</td>\n",
       "    </tr>\n",
       "    <tr>\n",
       "      <th>25%</th>\n",
       "      <td>2499.75000</td>\n",
       "      <td>11866.7500</td>\n",
       "      <td>11.908000</td>\n",
       "      <td>5.90000</td>\n",
       "      <td>118.000000</td>\n",
       "      <td>0.000000e+00</td>\n",
       "      <td>89.000000</td>\n",
       "    </tr>\n",
       "    <tr>\n",
       "      <th>50%</th>\n",
       "      <td>4999.50000</td>\n",
       "      <td>144476.0000</td>\n",
       "      <td>17.488000</td>\n",
       "      <td>6.50000</td>\n",
       "      <td>425.500000</td>\n",
       "      <td>5.912300e+05</td>\n",
       "      <td>99.000000</td>\n",
       "    </tr>\n",
       "    <tr>\n",
       "      <th>75%</th>\n",
       "      <td>7499.25000</td>\n",
       "      <td>451485.0000</td>\n",
       "      <td>29.626250</td>\n",
       "      <td>7.10000</td>\n",
       "      <td>1297.250000</td>\n",
       "      <td>4.764549e+07</td>\n",
       "      <td>113.000000</td>\n",
       "    </tr>\n",
       "    <tr>\n",
       "      <th>max</th>\n",
       "      <td>9999.00000</td>\n",
       "      <td>893478.0000</td>\n",
       "      <td>5401.308000</td>\n",
       "      <td>9.50000</td>\n",
       "      <td>30184.000000</td>\n",
       "      <td>2.847246e+09</td>\n",
       "      <td>400.000000</td>\n",
       "    </tr>\n",
       "  </tbody>\n",
       "</table>\n",
       "</div>"
      ],
      "text/plain": [
       "        Unnamed: 0           id    popularity  vote_average    vote_count  \\\n",
       "count  10000.00000   10000.0000  10000.000000   10000.00000  10000.000000   \n",
       "mean    4999.50000  250053.0833     34.516871       6.29875   1315.084900   \n",
       "std     2886.89568  261734.6183    100.693958       1.43426   2501.899103   \n",
       "min        0.00000       5.0000      6.269000       0.00000      0.000000   \n",
       "25%     2499.75000   11866.7500     11.908000       5.90000    118.000000   \n",
       "50%     4999.50000  144476.0000     17.488000       6.50000    425.500000   \n",
       "75%     7499.25000  451485.0000     29.626250       7.10000   1297.250000   \n",
       "max     9999.00000  893478.0000   5401.308000       9.50000  30184.000000   \n",
       "\n",
       "            revenue      runtime  \n",
       "count  1.000000e+04  9991.000000  \n",
       "mean   5.736388e+07    98.773596  \n",
       "std    1.480771e+08    28.800581  \n",
       "min    0.000000e+00     0.000000  \n",
       "25%    0.000000e+00    89.000000  \n",
       "50%    5.912300e+05    99.000000  \n",
       "75%    4.764549e+07   113.000000  \n",
       "max    2.847246e+09   400.000000  "
      ]
     },
     "execution_count": 15,
     "metadata": {},
     "output_type": "execute_result"
    }
   ],
   "source": [
    "df.describe()"
   ]
  },
  {
   "cell_type": "code",
   "execution_count": 16,
   "id": "7be4357a",
   "metadata": {},
   "outputs": [],
   "source": [
    "df.drop([\"Unnamed: 0\",\"id\"], axis=1, inplace=True)"
   ]
  },
  {
   "cell_type": "code",
   "execution_count": 18,
   "id": "adc59cb8",
   "metadata": {},
   "outputs": [],
   "source": [
    "df[\"release_date\"] = pd.to_datetime(df[\"release_date\"], format=\"%Y-%m-%d\")"
   ]
  },
  {
   "cell_type": "code",
   "execution_count": 20,
   "id": "12c4a1a3",
   "metadata": {},
   "outputs": [
    {
     "name": "stdout",
     "output_type": "stream",
     "text": [
      "<class 'pandas.core.frame.DataFrame'>\n",
      "RangeIndex: 10000 entries, 0 to 9999\n",
      "Data columns (total 11 columns):\n",
      " #   Column             Non-Null Count  Dtype         \n",
      "---  ------             --------------  -----         \n",
      " 0   original_language  10000 non-null  object        \n",
      " 1   original_title     10000 non-null  object        \n",
      " 2   popularity         10000 non-null  float64       \n",
      " 3   release_date       9962 non-null   datetime64[ns]\n",
      " 4   vote_average       10000 non-null  float64       \n",
      " 5   vote_count         10000 non-null  int64         \n",
      " 6   genre              10000 non-null  object        \n",
      " 7   overview           9900 non-null   object        \n",
      " 8   revenue            10000 non-null  int64         \n",
      " 9   runtime            9991 non-null   float64       \n",
      " 10  tagline            7080 non-null   object        \n",
      "dtypes: datetime64[ns](1), float64(3), int64(2), object(5)\n",
      "memory usage: 859.5+ KB\n"
     ]
    }
   ],
   "source": [
    "df.info()"
   ]
  },
  {
   "cell_type": "code",
   "execution_count": 22,
   "id": "c7855795",
   "metadata": {},
   "outputs": [
    {
     "data": {
      "text/plain": [
       "original_language       0\n",
       "original_title          0\n",
       "popularity              0\n",
       "release_date           38\n",
       "vote_average            0\n",
       "vote_count              0\n",
       "genre                   0\n",
       "overview              100\n",
       "revenue                 0\n",
       "runtime                 9\n",
       "tagline              2920\n",
       "dtype: int64"
      ]
     },
     "execution_count": 22,
     "metadata": {},
     "output_type": "execute_result"
    }
   ],
   "source": [
    "df.isnull().sum()"
   ]
  },
  {
   "cell_type": "code",
   "execution_count": 23,
   "id": "fdf90cc8",
   "metadata": {},
   "outputs": [],
   "source": [
    "df['overview'].fillna('No overview available', inplace=True)\n",
    "df['tagline'].fillna('No tagline available', inplace=True)\n",
    "df['runtime'].fillna(df['runtime'].mean(), inplace=True)"
   ]
  },
  {
   "cell_type": "code",
   "execution_count": 24,
   "id": "84f9026c",
   "metadata": {},
   "outputs": [],
   "source": [
    "df['release_year'] = pd.to_datetime(df['release_date'], errors='coerce').dt.year\n",
    "avg_release_year = df['release_year'].mean()\n",
    "\n",
    "# Fill missing values in 'release_date' with the average release year\n",
    "df['release_date'].fillna(f\"{int(avg_release_year)}-01-01\", inplace=True)\n",
    "\n",
    "# Dropping the temporary 'release_year' column\n",
    "df.drop(columns=['release_year'], inplace=True)"
   ]
  },
  {
   "cell_type": "code",
   "execution_count": 25,
   "id": "777a596c",
   "metadata": {},
   "outputs": [
    {
     "data": {
      "text/plain": [
       "original_language    0\n",
       "original_title       0\n",
       "popularity           0\n",
       "release_date         0\n",
       "vote_average         0\n",
       "vote_count           0\n",
       "genre                0\n",
       "overview             0\n",
       "revenue              0\n",
       "runtime              0\n",
       "tagline              0\n",
       "dtype: int64"
      ]
     },
     "execution_count": 25,
     "metadata": {},
     "output_type": "execute_result"
    }
   ],
   "source": [
    "df.isnull().sum()"
   ]
  },
  {
   "cell_type": "code",
   "execution_count": 26,
   "id": "538fe12c",
   "metadata": {},
   "outputs": [
    {
     "data": {
      "text/html": [
       "<div>\n",
       "<style scoped>\n",
       "    .dataframe tbody tr th:only-of-type {\n",
       "        vertical-align: middle;\n",
       "    }\n",
       "\n",
       "    .dataframe tbody tr th {\n",
       "        vertical-align: top;\n",
       "    }\n",
       "\n",
       "    .dataframe thead th {\n",
       "        text-align: right;\n",
       "    }\n",
       "</style>\n",
       "<table border=\"1\" class=\"dataframe\">\n",
       "  <thead>\n",
       "    <tr style=\"text-align: right;\">\n",
       "      <th></th>\n",
       "      <th>original_language</th>\n",
       "      <th>original_title</th>\n",
       "      <th>popularity</th>\n",
       "      <th>release_date</th>\n",
       "      <th>vote_average</th>\n",
       "      <th>vote_count</th>\n",
       "      <th>genre</th>\n",
       "      <th>overview</th>\n",
       "      <th>revenue</th>\n",
       "      <th>runtime</th>\n",
       "      <th>tagline</th>\n",
       "    </tr>\n",
       "  </thead>\n",
       "  <tbody>\n",
       "    <tr>\n",
       "      <th>0</th>\n",
       "      <td>en</td>\n",
       "      <td>Venom: Let There Be Carnage</td>\n",
       "      <td>5401.308</td>\n",
       "      <td>2021-09-30</td>\n",
       "      <td>6.8</td>\n",
       "      <td>1736</td>\n",
       "      <td>['Science Fiction', 'Action', 'Adventure']</td>\n",
       "      <td>After finding a host body in investigative rep...</td>\n",
       "      <td>424000000</td>\n",
       "      <td>97.0</td>\n",
       "      <td>No tagline available</td>\n",
       "    </tr>\n",
       "    <tr>\n",
       "      <th>1</th>\n",
       "      <td>en</td>\n",
       "      <td>Eternals</td>\n",
       "      <td>3365.535</td>\n",
       "      <td>2021-11-03</td>\n",
       "      <td>7.1</td>\n",
       "      <td>622</td>\n",
       "      <td>['Action', 'Adventure', 'Science Fiction', 'Fa...</td>\n",
       "      <td>The Eternals are a team of ancient aliens who ...</td>\n",
       "      <td>165000000</td>\n",
       "      <td>157.0</td>\n",
       "      <td>In the beginning...</td>\n",
       "    </tr>\n",
       "    <tr>\n",
       "      <th>2</th>\n",
       "      <td>en</td>\n",
       "      <td>Dune</td>\n",
       "      <td>2911.423</td>\n",
       "      <td>2021-09-15</td>\n",
       "      <td>8.0</td>\n",
       "      <td>3632</td>\n",
       "      <td>['Action', 'Adventure', 'Science Fiction']</td>\n",
       "      <td>Paul Atreides, a brilliant and gifted young ma...</td>\n",
       "      <td>331116356</td>\n",
       "      <td>155.0</td>\n",
       "      <td>Beyond fear, destiny awaits.</td>\n",
       "    </tr>\n",
       "    <tr>\n",
       "      <th>3</th>\n",
       "      <td>en</td>\n",
       "      <td>Army of Thieves</td>\n",
       "      <td>2552.437</td>\n",
       "      <td>2021-10-27</td>\n",
       "      <td>6.9</td>\n",
       "      <td>555</td>\n",
       "      <td>['Action', 'Crime', 'Thriller']</td>\n",
       "      <td>A mysterious woman recruits bank teller Ludwig...</td>\n",
       "      <td>0</td>\n",
       "      <td>127.0</td>\n",
       "      <td>Before Vegas, one locksmith became a legend.</td>\n",
       "    </tr>\n",
       "    <tr>\n",
       "      <th>4</th>\n",
       "      <td>en</td>\n",
       "      <td>Free Guy</td>\n",
       "      <td>1850.470</td>\n",
       "      <td>2021-08-11</td>\n",
       "      <td>7.8</td>\n",
       "      <td>3493</td>\n",
       "      <td>['Comedy', 'Action', 'Adventure', 'Science Fic...</td>\n",
       "      <td>A bank teller called Guy realizes he is a back...</td>\n",
       "      <td>331096766</td>\n",
       "      <td>115.0</td>\n",
       "      <td>Life's too short to be a background character.</td>\n",
       "    </tr>\n",
       "  </tbody>\n",
       "</table>\n",
       "</div>"
      ],
      "text/plain": [
       "  original_language               original_title  popularity release_date  \\\n",
       "0                en  Venom: Let There Be Carnage    5401.308   2021-09-30   \n",
       "1                en                     Eternals    3365.535   2021-11-03   \n",
       "2                en                         Dune    2911.423   2021-09-15   \n",
       "3                en              Army of Thieves    2552.437   2021-10-27   \n",
       "4                en                     Free Guy    1850.470   2021-08-11   \n",
       "\n",
       "   vote_average  vote_count  \\\n",
       "0           6.8        1736   \n",
       "1           7.1         622   \n",
       "2           8.0        3632   \n",
       "3           6.9         555   \n",
       "4           7.8        3493   \n",
       "\n",
       "                                               genre  \\\n",
       "0         ['Science Fiction', 'Action', 'Adventure']   \n",
       "1  ['Action', 'Adventure', 'Science Fiction', 'Fa...   \n",
       "2         ['Action', 'Adventure', 'Science Fiction']   \n",
       "3                    ['Action', 'Crime', 'Thriller']   \n",
       "4  ['Comedy', 'Action', 'Adventure', 'Science Fic...   \n",
       "\n",
       "                                            overview    revenue  runtime  \\\n",
       "0  After finding a host body in investigative rep...  424000000     97.0   \n",
       "1  The Eternals are a team of ancient aliens who ...  165000000    157.0   \n",
       "2  Paul Atreides, a brilliant and gifted young ma...  331116356    155.0   \n",
       "3  A mysterious woman recruits bank teller Ludwig...          0    127.0   \n",
       "4  A bank teller called Guy realizes he is a back...  331096766    115.0   \n",
       "\n",
       "                                          tagline  \n",
       "0                            No tagline available  \n",
       "1                             In the beginning...  \n",
       "2                    Beyond fear, destiny awaits.  \n",
       "3    Before Vegas, one locksmith became a legend.  \n",
       "4  Life's too short to be a background character.  "
      ]
     },
     "execution_count": 26,
     "metadata": {},
     "output_type": "execute_result"
    }
   ],
   "source": [
    "df.head()"
   ]
  },
  {
   "cell_type": "code",
   "execution_count": null,
   "id": "7b79b9bc",
   "metadata": {},
   "outputs": [],
   "source": []
  }
 ],
 "metadata": {
  "kernelspec": {
   "display_name": "Python 3 (ipykernel)",
   "language": "python",
   "name": "python3"
  },
  "language_info": {
   "codemirror_mode": {
    "name": "ipython",
    "version": 3
   },
   "file_extension": ".py",
   "mimetype": "text/x-python",
   "name": "python",
   "nbconvert_exporter": "python",
   "pygments_lexer": "ipython3",
   "version": "3.10.9"
  }
 },
 "nbformat": 4,
 "nbformat_minor": 5
}
